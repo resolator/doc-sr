{
 "cells": [
  {
   "cell_type": "code",
   "execution_count": 1,
   "metadata": {},
   "outputs": [
    {
     "name": "stdout",
     "output_type": "stream",
     "text": [
      "WARNING:tensorflow:From C:\\Users\\Nikita\\anaconda3\\lib\\site-packages\\tensorflow\\python\\compat\\v2_compat.py:96: disable_resource_variables (from tensorflow.python.ops.variable_scope) is deprecated and will be removed in a future version.\n",
      "Instructions for updating:\n",
      "non-resource variables are not supported in the long term\n"
     ]
    }
   ],
   "source": [
    "from kernelgan.dataloader import CropDataModule\n",
    "from kernelgan.networks import KernelGAN\n",
    "\n",
    "from zssr.ZSSR import ZSSR\n",
    "\n",
    "import matplotlib.pyplot as plt\n",
    "\n",
    "from pathlib import Path\n",
    "import time"
   ]
  },
  {
   "cell_type": "code",
   "execution_count": 2,
   "metadata": {},
   "outputs": [],
   "source": [
    "import pytorch_lightning as pl\n",
    "from pytorch_lightning.loggers import WandbLogger\n",
    "import wandb"
   ]
  },
  {
   "cell_type": "code",
   "execution_count": 3,
   "metadata": {},
   "outputs": [],
   "source": [
    "class Experiment:\n",
    "    def __init__(self, img_path):\n",
    "        self.img_path = img_path\n",
    "        self.gan = KernelGAN()\n",
    "        \n",
    "    def train_gan(self, max_iters):\n",
    "        self.data_dl = CropDataModule(\n",
    "            img_path=self.img_path,\n",
    "            d_input_shape=self.gan.d_input_shape,\n",
    "            d_forward_shave=self.gan.D.forward_shave,\n",
    "            max_iters=max_iters\n",
    "        )\n",
    "        trainer = pl.Trainer(\n",
    "            gpus=1,\n",
    "            max_epochs=1\n",
    "        )\n",
    "        trainer.fit(self.gan, self.data_dl)\n",
    "        wandb.finish()\n",
    "        self.gan.post_process_kernel()\n",
    "        self.gan.save_kernel(Path('kernel.mat'))\n",
    "        \n",
    "    def run_zssr(self):\n",
    "        noise_scale = 1.0\n",
    "        start_time = time.time()\n",
    "        print('~' * 30 + '\\nRunning ZSSR X2...')\n",
    "        sr = ZSSR(\n",
    "            self.img_path.absolute(),\n",
    "            scale_factor=2,\n",
    "            kernels=[self.gan.kernel],\n",
    "            is_real_img=True,\n",
    "            noise_scale=noise_scale\n",
    "        ).run()\n",
    "        plt.imsave(\n",
    "            'ZSSR_%s.png' % self.img_path.stem,\n",
    "            sr,\n",
    "            vmin=0,\n",
    "            vmax=255 if sr.dtype == 'uint8' else 1.,\n",
    "            dpi=1\n",
    "        )\n",
    "        runtime = int(time.time() - start_time)\n",
    "        print('Completed! runtime=%d:%d\\n' % (runtime // 60, runtime % 60) + '~' * 30)\n"
   ]
  },
  {
   "cell_type": "code",
   "execution_count": 4,
   "metadata": {},
   "outputs": [],
   "source": [
    "kg = Experiment(img_path=Path('input.png'))"
   ]
  },
  {
   "cell_type": "code",
   "execution_count": 5,
   "metadata": {
    "scrolled": false
   },
   "outputs": [
    {
     "name": "stderr",
     "output_type": "stream",
     "text": [
      "C:\\Users\\Nikita\\Jupyter\\KernelGAN-master\\kernelgan\\util.py:76: RuntimeWarning: invalid value encountered in true_divide\n",
      "  grads_comb = lm_x / lm_x.sum() + lm_y / lm_y.sum() + gmag / gmag.sum()\n",
      "GPU available: True, used: True\n",
      "TPU available: None, using: 0 TPU cores\n",
      "LOCAL_RANK: 0 - CUDA_VISIBLE_DEVICES: [0]\n",
      "\n",
      "  | Name           | Type          | Params\n",
      "-------------------------------------------------\n",
      "0 | G              | Generator     | 150 K \n",
      "1 | D              | Discriminator | 31.0 K\n",
      "2 | GAN_loss_layer | GANLoss       | 0     \n",
      "3 | bicubic_loss   | DownScaleLoss | 0     \n",
      "-------------------------------------------------\n",
      "181 K     Trainable params\n",
      "0         Non-trainable params\n",
      "181 K     Total params\n"
     ]
    },
    {
     "data": {
      "application/vnd.jupyter.widget-view+json": {
       "model_id": "6974b854522d4376a1aeb48fbc86a107",
       "version_major": 2,
       "version_minor": 0
      },
      "text/plain": [
       "HBox(children=(HTML(value='Training'), FloatProgress(value=1.0, bar_style='info', layout=Layout(flex='2'), max…"
      ]
     },
     "metadata": {},
     "output_type": "display_data"
    },
    {
     "name": "stdout",
     "output_type": "stream",
     "text": [
      "\n"
     ]
    }
   ],
   "source": [
    "kg.train_gan(max_iters=3000)"
   ]
  },
  {
   "cell_type": "code",
   "execution_count": 6,
   "metadata": {},
   "outputs": [
    {
     "name": "stdout",
     "output_type": "stream",
     "text": [
      "~~~~~~~~~~~~~~~~~~~~~~~~~~~~~~\n",
      "Running ZSSR X2...\n",
      "\n",
      "ZSSR configuration is for a real image\n",
      "Completed! runtime=3:48\n",
      "~~~~~~~~~~~~~~~~~~~~~~~~~~~~~~\n"
     ]
    }
   ],
   "source": [
    "kg.run_zssr()"
   ]
  },
  {
   "cell_type": "code",
   "execution_count": null,
   "metadata": {},
   "outputs": [],
   "source": []
  }
 ],
 "metadata": {
  "kernelspec": {
   "display_name": "Python 3",
   "language": "python",
   "name": "python3"
  },
  "language_info": {
   "codemirror_mode": {
    "name": "ipython",
    "version": 3
   },
   "file_extension": ".py",
   "mimetype": "text/x-python",
   "name": "python",
   "nbconvert_exporter": "python",
   "pygments_lexer": "ipython3",
   "version": "3.8.5"
  }
 },
 "nbformat": 4,
 "nbformat_minor": 4
}
